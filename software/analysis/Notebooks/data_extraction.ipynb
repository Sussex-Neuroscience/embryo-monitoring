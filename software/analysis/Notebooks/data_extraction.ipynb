{
 "cells": [
  {
   "cell_type": "code",
   "execution_count": 20,
   "metadata": {},
   "outputs": [],
   "source": [
    "import pandas as pd\n",
    "import numpy as np\n",
    "import os\n",
    "filePath = \"../../data_unmodified/\"\n",
    "fileName = \"output2022-12-07T17_42_01.csv\"\n",
    "data=pd.read_csv(filePath+fileName)\n"
   ]
  },
  {
   "cell_type": "code",
   "execution_count": 39,
   "metadata": {},
   "outputs": [],
   "source": [
    "def data_extraction(filePath):\n",
    "    for each_file in os.listdir(filePath):\n",
    "        if each_file.endswith(\".csv\"):\n",
    "            data=pd.read_csv(filePath + each_file)\n",
    "            data=data[data.columns[data.columns.str.contains(\"avgBright\")]]\n",
    "            new_columns=[]\n",
    "            for i in range(len(data.columns)):\n",
    "                new_columns.append(\"Item\"+str(i+1)+\".avgBright\")\n",
    "            data.columns=new_columns\n",
    "            data.to_csv(\"../../../data/\"+each_file,index=False)\n",
    "    \n",
    "data_extraction(filePath)\n",
    "    "
   ]
  },
  {
   "cell_type": "code",
   "execution_count": null,
   "metadata": {},
   "outputs": [],
   "source": []
  }
 ],
 "metadata": {
  "kernelspec": {
   "display_name": "Python 3.9.13 ('base')",
   "language": "python",
   "name": "python3"
  },
  "language_info": {
   "codemirror_mode": {
    "name": "ipython",
    "version": 3
   },
   "file_extension": ".py",
   "mimetype": "text/x-python",
   "name": "python",
   "nbconvert_exporter": "python",
   "pygments_lexer": "ipython3",
   "version": "3.9.13 (main, Aug 25 2022, 23:51:50) [MSC v.1916 64 bit (AMD64)]"
  },
  "orig_nbformat": 4,
  "vscode": {
   "interpreter": {
    "hash": "ad2bdc8ecc057115af97d19610ffacc2b4e99fae6737bb82f5d7fb13d2f2c186"
   }
  }
 },
 "nbformat": 4,
 "nbformat_minor": 2
}
