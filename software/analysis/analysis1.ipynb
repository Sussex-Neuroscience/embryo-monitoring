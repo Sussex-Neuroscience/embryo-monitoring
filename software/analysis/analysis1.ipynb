{
 "cells": [
  {
   "cell_type": "code",
   "execution_count": 1,
   "id": "910a205c",
   "metadata": {},
   "outputs": [],
   "source": [
    "import pandas as pd\n",
    "import os\n",
    "import seaborn as sns\n",
    "import matplot"
   ]
  },
  {
   "cell_type": "code",
   "execution_count": 2,
   "id": "adb84d3c",
   "metadata": {},
   "outputs": [],
   "source": [
    "filePath = \"..//..//data//\"\n",
    "fileName = \"test2021-11-01T12_31_36.csv\"\n",
    "\n",
    "data = pd.read_csv(filePath+fileName)"
   ]
  },
  {
   "cell_type": "code",
   "execution_count": 5,
   "id": "9b48d0f6-213e-41b0-91b1-d89edf980396",
   "metadata": {},
   "outputs": [
    {
     "data": {
      "text/html": [
       "<div>\n",
       "<style scoped>\n",
       "    .dataframe tbody tr th:only-of-type {\n",
       "        vertical-align: middle;\n",
       "    }\n",
       "\n",
       "    .dataframe tbody tr th {\n",
       "        vertical-align: top;\n",
       "    }\n",
       "\n",
       "    .dataframe thead th {\n",
       "        text-align: right;\n",
       "    }\n",
       "</style>\n",
       "<table border=\"1\" class=\"dataframe\">\n",
       "  <thead>\n",
       "    <tr style=\"text-align: right;\">\n",
       "      <th></th>\n",
       "      <th>Item1</th>\n",
       "      <th>Item2.Centroid.X</th>\n",
       "      <th>Item2.Centroid.Y</th>\n",
       "      <th>Item2.Orientation</th>\n",
       "      <th>Item2.MajorAxisLength</th>\n",
       "      <th>Item2.MinorAxisLength</th>\n",
       "      <th>Item2.Area</th>\n",
       "      <th>Item3</th>\n",
       "    </tr>\n",
       "  </thead>\n",
       "  <tbody>\n",
       "    <tr>\n",
       "      <th>0</th>\n",
       "      <td>42.459783</td>\n",
       "      <td>9.4</td>\n",
       "      <td>20.4</td>\n",
       "      <td>-0.733502</td>\n",
       "      <td>8.953559</td>\n",
       "      <td>4.288797</td>\n",
       "      <td>15</td>\n",
       "      <td>0.000000</td>\n",
       "    </tr>\n",
       "    <tr>\n",
       "      <th>1</th>\n",
       "      <td>42.397826</td>\n",
       "      <td>9.4</td>\n",
       "      <td>20.4</td>\n",
       "      <td>-0.733502</td>\n",
       "      <td>8.953559</td>\n",
       "      <td>4.288797</td>\n",
       "      <td>15</td>\n",
       "      <td>-0.061957</td>\n",
       "    </tr>\n",
       "    <tr>\n",
       "      <th>2</th>\n",
       "      <td>42.397826</td>\n",
       "      <td>9.4</td>\n",
       "      <td>20.4</td>\n",
       "      <td>-0.733502</td>\n",
       "      <td>8.953559</td>\n",
       "      <td>4.288797</td>\n",
       "      <td>15</td>\n",
       "      <td>0.000000</td>\n",
       "    </tr>\n",
       "    <tr>\n",
       "      <th>3</th>\n",
       "      <td>42.401087</td>\n",
       "      <td>9.4</td>\n",
       "      <td>20.4</td>\n",
       "      <td>-0.733502</td>\n",
       "      <td>8.953559</td>\n",
       "      <td>4.288797</td>\n",
       "      <td>15</td>\n",
       "      <td>0.003261</td>\n",
       "    </tr>\n",
       "    <tr>\n",
       "      <th>4</th>\n",
       "      <td>42.401087</td>\n",
       "      <td>9.4</td>\n",
       "      <td>20.4</td>\n",
       "      <td>-0.733502</td>\n",
       "      <td>8.953559</td>\n",
       "      <td>4.288797</td>\n",
       "      <td>15</td>\n",
       "      <td>0.000000</td>\n",
       "    </tr>\n",
       "    <tr>\n",
       "      <th>...</th>\n",
       "      <td>...</td>\n",
       "      <td>...</td>\n",
       "      <td>...</td>\n",
       "      <td>...</td>\n",
       "      <td>...</td>\n",
       "      <td>...</td>\n",
       "      <td>...</td>\n",
       "      <td>...</td>\n",
       "    </tr>\n",
       "    <tr>\n",
       "      <th>223483</th>\n",
       "      <td>42.407609</td>\n",
       "      <td>NaN</td>\n",
       "      <td>NaN</td>\n",
       "      <td>NaN</td>\n",
       "      <td>0.000000</td>\n",
       "      <td>0.000000</td>\n",
       "      <td>0</td>\n",
       "      <td>0.000000</td>\n",
       "    </tr>\n",
       "    <tr>\n",
       "      <th>223484</th>\n",
       "      <td>42.407609</td>\n",
       "      <td>NaN</td>\n",
       "      <td>NaN</td>\n",
       "      <td>NaN</td>\n",
       "      <td>0.000000</td>\n",
       "      <td>0.000000</td>\n",
       "      <td>0</td>\n",
       "      <td>0.000000</td>\n",
       "    </tr>\n",
       "    <tr>\n",
       "      <th>223485</th>\n",
       "      <td>42.407609</td>\n",
       "      <td>NaN</td>\n",
       "      <td>NaN</td>\n",
       "      <td>NaN</td>\n",
       "      <td>0.000000</td>\n",
       "      <td>0.000000</td>\n",
       "      <td>0</td>\n",
       "      <td>0.000000</td>\n",
       "    </tr>\n",
       "    <tr>\n",
       "      <th>223486</th>\n",
       "      <td>42.407609</td>\n",
       "      <td>NaN</td>\n",
       "      <td>NaN</td>\n",
       "      <td>NaN</td>\n",
       "      <td>0.000000</td>\n",
       "      <td>0.000000</td>\n",
       "      <td>0</td>\n",
       "      <td>0.000000</td>\n",
       "    </tr>\n",
       "    <tr>\n",
       "      <th>223487</th>\n",
       "      <td>42.407609</td>\n",
       "      <td>NaN</td>\n",
       "      <td>NaN</td>\n",
       "      <td>NaN</td>\n",
       "      <td>0.000000</td>\n",
       "      <td>0.000000</td>\n",
       "      <td>0</td>\n",
       "      <td>0.000000</td>\n",
       "    </tr>\n",
       "  </tbody>\n",
       "</table>\n",
       "<p>223488 rows × 8 columns</p>\n",
       "</div>"
      ],
      "text/plain": [
       "            Item1  Item2.Centroid.X  Item2.Centroid.Y  Item2.Orientation  \\\n",
       "0       42.459783               9.4              20.4          -0.733502   \n",
       "1       42.397826               9.4              20.4          -0.733502   \n",
       "2       42.397826               9.4              20.4          -0.733502   \n",
       "3       42.401087               9.4              20.4          -0.733502   \n",
       "4       42.401087               9.4              20.4          -0.733502   \n",
       "...           ...               ...               ...                ...   \n",
       "223483  42.407609               NaN               NaN                NaN   \n",
       "223484  42.407609               NaN               NaN                NaN   \n",
       "223485  42.407609               NaN               NaN                NaN   \n",
       "223486  42.407609               NaN               NaN                NaN   \n",
       "223487  42.407609               NaN               NaN                NaN   \n",
       "\n",
       "        Item2.MajorAxisLength  Item2.MinorAxisLength  Item2.Area     Item3  \n",
       "0                    8.953559               4.288797          15  0.000000  \n",
       "1                    8.953559               4.288797          15 -0.061957  \n",
       "2                    8.953559               4.288797          15  0.000000  \n",
       "3                    8.953559               4.288797          15  0.003261  \n",
       "4                    8.953559               4.288797          15  0.000000  \n",
       "...                       ...                    ...         ...       ...  \n",
       "223483               0.000000               0.000000           0  0.000000  \n",
       "223484               0.000000               0.000000           0  0.000000  \n",
       "223485               0.000000               0.000000           0  0.000000  \n",
       "223486               0.000000               0.000000           0  0.000000  \n",
       "223487               0.000000               0.000000           0  0.000000  \n",
       "\n",
       "[223488 rows x 8 columns]"
      ]
     },
     "execution_count": 5,
     "metadata": {},
     "output_type": "execute_result"
    }
   ],
   "source": [
    "data"
   ]
  },
  {
   "cell_type": "code",
   "execution_count": 8,
   "id": "ebce8a6d-92d0-41d2-9486-c1e1c43216e1",
   "metadata": {},
   "outputs": [
    {
     "data": {
      "text/plain": [
       "<AxesSubplot:>"
      ]
     },
     "execution_count": 8,
     "metadata": {},
     "output_type": "execute_result"
    },
    {
     "data": {
      "image/png": "[encoded data removed]",
      "text/plain": [
       "<Figure size 432x288 with 1 Axes>"
      ]
     },
     "metadata": {
      "needs_background": "light"
     },
     "output_type": "display_data"
    }
   ],
   "source": [
    "data.Item3.plot()\n"
   ]
  },
  {
   "cell_type": "code",
   "execution_count": 9,
   "id": "93c8e0b7-4b9c-44d6-be73-62662ec16b2e",
   "metadata": {},
   "outputs": [
    {
     "data": {
      "text/plain": [
       "<AxesSubplot:>"
      ]
     },
     "execution_count": 9,
     "metadata": {},
     "output_type": "execute_result"
    },
    {
     "data": {
      "image/png": "[encoded data removed]",
      "text/plain": [
       "<Figure size 432x288 with 1 Axes>"
      ]
     },
     "metadata": {
      "needs_background": "light"
     },
     "output_type": "display_data"
    }
   ],
   "source": [
    "data.Item1.plot()"
   ]
  },
  {
   "cell_type": "code",
   "execution_count": null,
   "id": "132e5840-79d4-4bfc-a210-82420e6752f3",
   "metadata": {},
   "outputs": [],
   "source": []
  }
 ],
 "metadata": {
  "kernelspec": {
   "display_name": "Python 3 (ipykernel)",
   "language": "python",
   "name": "python3"
  },
  "language_info": {
   "codemirror_mode": {
    "name": "ipython",
    "version": 3
   },
   "file_extension": ".py",
   "mimetype": "text/x-python",
   "name": "python",
   "nbconvert_exporter": "python",
   "pygments_lexer": "ipython3",
   "version": "3.9.5"
  }
 },
 "nbformat": 4,
 "nbformat_minor": 5
}
