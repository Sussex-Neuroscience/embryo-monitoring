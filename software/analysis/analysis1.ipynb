{
 "cells": [
  {
   "cell_type": "code",
   "execution_count": null,
   "id": "910a205c",
   "metadata": {},
   "outputs": [],
   "source": [
    "import pandas as pd\n",
    "import os\n",
    "import seaborn as sns\n",
    "import matplotlib.pyplot as plt\n",
    "import numpy as np\n",
    "%matplotlib widget\n"
   ]
  },
  {
   "cell_type": "code",
   "execution_count": null,
   "id": "adb84d3c",
   "metadata": {},
   "outputs": [],
   "source": [
    "filePath = \"..//..//data//\"\n",
    "fileName = \"test22021-12-06T18_13_52.csv\"\n",
    "\n",
    "data = pd.read_csv(filePath+fileName)"
   ]
  },
  {
   "cell_type": "code",
   "execution_count": null,
   "id": "9b48d0f6-213e-41b0-91b1-d89edf980396",
   "metadata": {},
   "outputs": [],
   "source": [
    "data"
   ]
  },
  {
   "cell_type": "code",
   "execution_count": null,
   "id": "ebce8a6d-92d0-41d2-9486-c1e1c43216e1",
   "metadata": {},
   "outputs": [],
   "source": []
  },
  {
   "cell_type": "code",
   "execution_count": null,
   "id": "93c8e0b7-4b9c-44d6-be73-62662ec16b2e",
   "metadata": {},
   "outputs": [],
   "source": [
    "norm = data['Item1.Item1.Item1.brightAverage']-data['Item1.Item1.Item2.runningAverage']\n",
    "plt.plot(data['Item1.Item1.Item1.brightAverage'])\n",
    "plt.plot(data['Item1.Item1.Item2.runningAverage'])"
   ]
  },
  {
   "cell_type": "code",
   "execution_count": null,
   "id": "132e5840-79d4-4bfc-a210-82420e6752f3",
   "metadata": {},
   "outputs": [],
   "source": []
  }
 ],
 "metadata": {
  "kernelspec": {
   "display_name": "Python 3 (ipykernel)",
   "language": "python",
   "name": "python3"
  },
  "language_info": {
   "codemirror_mode": {
    "name": "ipython",
    "version": 3
   },
   "file_extension": ".py",
   "mimetype": "text/x-python",
   "name": "python",
   "nbconvert_exporter": "python",
   "pygments_lexer": "ipython3",
   "version": "3.9.5"
  }
 },
 "nbformat": 4,
 "nbformat_minor": 5
}
